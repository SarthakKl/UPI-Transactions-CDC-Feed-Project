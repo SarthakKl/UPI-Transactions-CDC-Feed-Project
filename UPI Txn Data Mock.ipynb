{
 "cells": [
  {
   "cell_type": "code",
   "execution_count": 0,
   "metadata": {
    "application/vnd.databricks.v1+cell": {
     "cellMetadata": {
      "byteLimit": 2048000,
      "rowLimit": 10000
     },
     "inputWidgets": {},
     "nuid": "9cd2db34-954f-4046-b120-7d2a4e906a09",
     "showTitle": false,
     "tableResultSettingsMap": {},
     "title": ""
    }
   },
   "outputs": [],
   "source": [
    "# Create a delta table for the UPI Txns\n",
    "\n",
    "spark.sql(\"\"\"\n",
    "create table if not exists cdc_feed_project_catalog.default.raw_upi_txns_v1 (\n",
    "    transaction_id STRING,\n",
    "    upi_id STRING,\n",
    "    merchant_id STRING,\n",
    "    transaction_amount DOUBLE,\n",
    "    transaction_timestamp TIMESTAMP,\n",
    "    transaction_status sTRING\n",
    ")\n",
    "using delta\n",
    "TBLPROPERTIES('delta.enableChangeDataFeed' = 'true')\n",
    "\"\"\")\n",
    "\n",
    "print('created cdc table raw_upi_txns_v1 with CDC enabled')"
   ]
  },
  {
   "cell_type": "code",
   "execution_count": 0,
   "metadata": {
    "application/vnd.databricks.v1+cell": {
     "cellMetadata": {
      "byteLimit": 2048000,
      "rowLimit": 10000
     },
     "inputWidgets": {},
     "nuid": "896a565e-2259-45b8-bb2c-963d94a0aebe",
     "showTitle": false,
     "tableResultSettingsMap": {},
     "title": ""
    }
   },
   "outputs": [],
   "source": [
    "from delta.tables import DeltaTable\n",
    "\n",
    "mock_batches = [\n",
    "    # Batch 1: Insert new transactions\n",
    "    spark.createDataFrame([\n",
    "        (\"T001\", \"upi1@bank\", \"M001\", 500.0, \"2024-12-21 10:00:00\", \"initiated\"),\n",
    "        (\"T002\", \"upi2@bank\", \"M002\", 1000.0, \"2024-12-21 10:05:00\", \"initiated\"),\n",
    "        (\"T003\", \"upi3@bank\", \"M003\", 1500.0, \"2024-12-21 10:10:00\", \"initiated\"),\n",
    "    ], [\"transaction_id\", \"upi_id\", \"merchant_id\", \"transaction_amount\", \"transaction_timestamp\", \"transaction_status\"]),\n",
    "\n",
    "    # Batch 2: Update and insert transactions\n",
    "    spark.createDataFrame([\n",
    "        (\"T001\", \"upi1@bank\", \"M001\", 500.0, \"2024-12-21 10:15:00\", \"completed\"),  # Update transaction\n",
    "        (\"T002\", \"upi2@bank\", \"M002\", 1000.0, \"2024-12-21 10:20:00\", \"failed\"),    # Update transaction\n",
    "        (\"T004\", \"upi4@bank\", \"M004\", 2000.0, \"2024-12-21 10:25:00\", \"initiated\"), # New transaction\n",
    "    ], [\"transaction_id\", \"upi_id\", \"merchant_id\", \"transaction_amount\", \"transaction_timestamp\", \"transaction_status\"]),\n",
    "\n",
    "    # Batch 3: Handle refunds and updates\n",
    "    spark.createDataFrame([\n",
    "        (\"T001\", \"upi1@bank\", \"M001\", 500.0, \"2024-12-21 10:30:00\", \"refunded\"),  # Refund issued\n",
    "        (\"T003\", \"upi3@bank\", \"M003\", 1500.0, \"2024-12-21 10:35:00\", \"completed\"), # Completed transaction\n",
    "    ], [\"transaction_id\", \"upi_id\", \"merchant_id\", \"transaction_amount\", \"transaction_timestamp\", \"transaction_status\"]),\n",
    "]\n",
    "\n",
    "def merge_to_deltaTable(delta_table_name, batch_df):\n",
    "    delta_table = DeltaTable.forName(spark, delta_table_name)\n",
    "\n",
    "    delta_table.alias(\"target\").merge(\n",
    "        batch_df.alias(\"source\"),\n",
    "        \"target.transaction_id = source.transaction_id\"\n",
    "    ).whenMatchedUpdate(set={\n",
    "        \"upi_id\": \"source.upi_id\",\n",
    "        \"merchant_id\": \"source.merchant_id\",\n",
    "        \"transaction_amount\": \"source.transaction_amount\",\n",
    "        \"transaction_timestamp\": \"source.transaction_timestamp\",\n",
    "        \"transaction_status\": \"source.transaction_status\"\n",
    "    }).whenNotMatchedInsertAll().execute()\n",
    "\n",
    "merge_to_deltaTable(\"cdc_feed_project_catalog.default.raw_upi_txns_v1\", mock_batches[2])\n"
   ]
  }
 ],
 "metadata": {
  "application/vnd.databricks.v1+notebook": {
   "computePreferences": null,
   "dashboards": [],
   "environmentMetadata": {
    "base_environment": "",
    "environment_version": "2"
   },
   "language": "python",
   "notebookMetadata": {
    "pythonIndentUnit": 4
   },
   "notebookName": "UPI Txn Data Mock",
   "widgets": {}
  },
  "language_info": {
   "name": "python"
  }
 },
 "nbformat": 4,
 "nbformat_minor": 0
}
